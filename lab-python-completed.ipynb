{
 "cells": [
  {
   "cell_type": "markdown",
   "metadata": {
    "tags": []
   },
   "source": [
    "# Lab | Data Structures "
   ]
  },
  {
   "cell_type": "markdown",
   "metadata": {},
   "source": [
    "## Exercise: Managing Customer Orders\n",
    "\n",
    "As part of a business venture, you are starting an online store that sells various products. To ensure smooth operations, you need to develop a program that manages customer orders and inventory.\n",
    "\n",
    "Follow the steps below to complete the exercise:\n",
    "\n",
    "1. Define a list called `products` that contains the following items: \"t-shirt\", \"mug\", \"hat\", \"book\", \"keychain\".\n",
    "\n",
    "2. Create an empty dictionary called `inventory`.\n",
    "\n",
    "3. Ask the user to input the quantity of each product available in the inventory. Use the product names from the `products` list as keys in the `inventory` dictionary and assign the respective quantities as values.\n",
    "\n",
    "4. Create an empty set called `customer_orders`.\n",
    "\n",
    "5. Ask the user to input the name of three products that a customer wants to order (from those in the products list, meaning three products out of \"t-shirt\", \"mug\", \"hat\", \"book\" or \"keychain\". Add each product name to the `customer_orders` set.\n",
    "\n",
    "6. Print the products in the `customer_orders` set.\n",
    "\n",
    "7. Calculate the following order statistics:\n",
    "   - Total Products Ordered: The total number of products in the `customer_orders` set.\n",
    "   - Percentage of Products Ordered: The percentage of products ordered compared to the total available products.\n",
    "   \n",
    "   Store these statistics in a tuple called `order_status`.\n",
    "\n",
    "8. Print the order statistics using the following format:\n",
    "   ```\n",
    "   Order Statistics:\n",
    "   Total Products Ordered: <total_products_ordered>\n",
    "   Percentage of Products Ordered: <percentage_ordered>% \n",
    "   ```\n",
    "\n",
    "9. Update the inventory by subtracting 1 from the quantity of each product. Modify the `inventory` dictionary accordingly.\n",
    "\n",
    "10. Print the updated inventory, displaying the quantity of each product on separate lines.\n",
    "\n",
    "Solve the exercise by implementing the steps using the Python concepts of lists, dictionaries, sets, and basic input/output operations. "
   ]
  },
  {
   "cell_type": "code",
   "execution_count": 9,
   "metadata": {},
   "outputs": [],
   "source": [
    "# Step 1\n",
    "products = [\"t-shirt\", \"mug\", \"hat\", \"book\", \"keychain\"]"
   ]
  },
  {
   "cell_type": "code",
   "execution_count": 11,
   "metadata": {},
   "outputs": [],
   "source": [
    "# Step 2\n",
    "inventory = {} "
   ]
  },
  {
   "cell_type": "code",
   "execution_count": 15,
   "metadata": {},
   "outputs": [
    {
     "name": "stdin",
     "output_type": "stream",
     "text": [
      "Enter the quantity of t-shirts available:  10\n",
      "Enter the quantity of mugs available:  15\n",
      "Enter the quantity of hats available:  7\n",
      "Enter the quantity of books available:  25\n",
      "Enter the quantity of keychains available:  70\n"
     ]
    }
   ],
   "source": [
    "# Step 3\n",
    "quantity = int(input(\"Enter the quantity of t-shirts available: \"))\n",
    "inventory[\"t-shirt\"] = quantity\n",
    "\n",
    "quantity = int(input(\"Enter the quantity of mugs available: \"))\n",
    "inventory[\"mug\"] = quantity\n",
    "\n",
    "quantity = int(input(\"Enter the quantity of hats available: \"))\n",
    "inventory[\"hat\"] = quantity\n",
    "\n",
    "quantity = int(input(\"Enter the quantity of books available: \"))\n",
    "inventory[\"book\"] = quantity\n",
    "\n",
    "quantity = int(input(\"Enter the quantity of keychains available: \"))\n",
    "inventory[\"keychain\"] = quantity"
   ]
  },
  {
   "cell_type": "code",
   "execution_count": 17,
   "metadata": {},
   "outputs": [],
   "source": [
    "customer_orders = set()"
   ]
  },
  {
   "cell_type": "code",
   "execution_count": 19,
   "metadata": {},
   "outputs": [
    {
     "name": "stdin",
     "output_type": "stream",
     "text": [
      "Enter the name of a product that a customer wants to order:  mug\n",
      "Enter the name of another product that a customer wants to order:  hat\n",
      "Enter the name of one more product that a customer wants to order:  book\n"
     ]
    }
   ],
   "source": [
    "# Step 5\n",
    "product_name = input(\"Enter the name of a product that a customer wants to order: \")\n",
    "customer_orders.add(product_name)\n",
    "\n",
    "product_name = input(\"Enter the name of another product that a customer wants to order: \")\n",
    "customer_orders.add(product_name)\n",
    "\n",
    "product_name = input(\"Enter the name of one more product that a customer wants to order: \")\n",
    "customer_orders.add(product_name)"
   ]
  },
  {
   "cell_type": "code",
   "execution_count": 21,
   "metadata": {},
   "outputs": [
    {
     "name": "stdout",
     "output_type": "stream",
     "text": [
      "Products in the customer orders: {'hat', 'mug', 'book'}\n"
     ]
    }
   ],
   "source": [
    "print(\"Products in the customer orders:\", customer_orders)"
   ]
  },
  {
   "cell_type": "code",
   "execution_count": 23,
   "metadata": {},
   "outputs": [],
   "source": [
    "total_products_ordered = len(customer_orders)\n",
    "percentage_ordered = (total_products_ordered / len(products)) * 100\n",
    "order_status = (total_products_ordered, percentage_ordered) "
   ]
  },
  {
   "cell_type": "code",
   "execution_count": 25,
   "metadata": {},
   "outputs": [
    {
     "name": "stdout",
     "output_type": "stream",
     "text": [
      "Order Statistics:\n",
      "Total Products Ordered: 3\n",
      "Percentage of Unique Products Ordered: 60.0\n"
     ]
    }
   ],
   "source": [
    "# Step 8\n",
    "print(\"Order Statistics:\")\n",
    "print(\"Total Products Ordered:\", order_status[0])\n",
    "print(\"Percentage of Unique Products Ordered:\", order_status[1])"
   ]
  },
  {
   "cell_type": "code",
   "execution_count": 27,
   "metadata": {},
   "outputs": [],
   "source": [
    "# Step 9\n",
    "inventory[\"t-shirt\"] -= 1\n",
    "inventory[\"mug\"] -= 1\n",
    "inventory[\"hat\"] -= 1\n",
    "inventory[\"book\"] -= 1\n",
    "inventory[\"keychain\"] -= 1"
   ]
  },
  {
   "cell_type": "code",
   "execution_count": 29,
   "metadata": {},
   "outputs": [
    {
     "name": "stdout",
     "output_type": "stream",
     "text": [
      "Updated Inventory:\n",
      "t-shirt: 9\n",
      "mug: 14\n",
      "hat: 6\n",
      "book: 24\n",
      "keychain: 69\n"
     ]
    }
   ],
   "source": [
    "# Step 10\n",
    "print(\"Updated Inventory:\")\n",
    "print(\"t-shirt:\", inventory[\"t-shirt\"])\n",
    "print(\"mug:\", inventory[\"mug\"])\n",
    "print(\"hat:\", inventory[\"hat\"])\n",
    "print(\"book:\", inventory[\"book\"])\n",
    "print(\"keychain:\", inventory[\"keychain\"])"
   ]
  },
  {
   "cell_type": "code",
   "execution_count": null,
   "metadata": {},
   "outputs": [],
   "source": []
  }
 ],
 "metadata": {
  "kernelspec": {
   "display_name": "Python [conda env:base] *",
   "language": "python",
   "name": "conda-base-py"
  },
  "language_info": {
   "codemirror_mode": {
    "name": "ipython",
    "version": 3
   },
   "file_extension": ".py",
   "mimetype": "text/x-python",
   "name": "python",
   "nbconvert_exporter": "python",
   "pygments_lexer": "ipython3",
   "version": "3.12.7"
  }
 },
 "nbformat": 4,
 "nbformat_minor": 4
}
